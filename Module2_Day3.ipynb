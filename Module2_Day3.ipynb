{
 "cells": [
  {
   "cell_type": "code",
   "execution_count": 2,
   "metadata": {},
   "outputs": [
    {
     "name": "stdout",
     "output_type": "stream",
     "text": [
      "    Zone     School   Name  Science  Math\n",
      "0  North   Rushmore  Jonny       70    78\n",
      "1  North   Rushmore   Mary       45    39\n",
      "2  South    Bayside    Joe       68    76\n",
      "3  South     Rydell  Jokob       90    56\n",
      "4   East    Shermer  Jimmy       45    67\n",
      "5   East    Shermer   Erik       66    89\n",
      "6   West  Ridgemont    Lam       89   100\n",
      "7   West   Hogwarts    Yip       32    55\n"
     ]
    }
   ],
   "source": [
    "import pandas as pd\n",
    "scores = {'Zone': ['North', 'North', 'South', 'South', \n",
    "                  'East', 'East', 'West', 'West'], \n",
    "         'School': ['Rushmore', 'Rushmore', 'Bayside', 'Rydell', \n",
    "                    'Shermer', 'Shermer', 'Ridgemont', 'Hogwarts'], \n",
    "         'Name': ['Jonny', 'Mary', 'Joe', 'Jokob', \n",
    "                  'Jimmy', 'Erik', 'Lam', 'Yip'],\n",
    "         'Math': [78, 39, 76, 56, 67, 89, 100, 55], \n",
    "         'Science': [70, 45, 68, 90, 45, 66, 89, 32]}\n",
    "\n",
    "df = pd.DataFrame(scores, columns = \n",
    "                 ['Zone', 'School', 'Name', \n",
    "                  'Science', 'Math'])\n",
    "\n",
    "print(df)"
   ]
  },
  {
   "cell_type": "code",
   "execution_count": 15,
   "metadata": {},
   "outputs": [
    {
     "name": "stdout",
     "output_type": "stream",
     "text": [
      "[('Bayside',    Science  Math\n",
      "2       68    76), ('Hogwarts',    Science  Math\n",
      "7       32    55), ('Ridgemont',    Science  Math\n",
      "6       89   100), ('Rushmore',    Science  Math\n",
      "0       70    78\n",
      "1       45    39), ('Rydell',    Science  Math\n",
      "3       90    56), ('Shermer',    Science  Math\n",
      "4       45    67\n",
      "5       66    89)]\n"
     ]
    }
   ],
   "source": [
    "group_science_by_school = df[['Science','Math']].groupby(df['School'])\n",
    "print(list(group_science_by_school))"
   ]
  },
  {
   "cell_type": "code",
   "execution_count": 9,
   "metadata": {},
   "outputs": [
    {
     "name": "stdout",
     "output_type": "stream",
     "text": [
      "=== Bayside ===\n",
      "2    68\n",
      "Name: Science, dtype: int64\n",
      "\n",
      "=== Hogwarts ===\n",
      "7    32\n",
      "Name: Science, dtype: int64\n",
      "\n",
      "=== Ridgemont ===\n",
      "6    89\n",
      "Name: Science, dtype: int64\n",
      "\n",
      "=== Rushmore ===\n",
      "0    70\n",
      "1    45\n",
      "Name: Science, dtype: int64\n",
      "\n",
      "=== Rydell ===\n",
      "3    90\n",
      "Name: Science, dtype: int64\n",
      "\n",
      "=== Shermer ===\n",
      "4    45\n",
      "5    66\n",
      "Name: Science, dtype: int64\n",
      "\n"
     ]
    }
   ],
   "source": [
    "for school, group in group_science_by_school:\n",
    "    print('===', school, '===')\n",
    "    print(group)\n",
    "    print()"
   ]
  },
  {
   "cell_type": "code",
   "execution_count": 17,
   "metadata": {},
   "outputs": [
    {
     "name": "stdout",
     "output_type": "stream",
     "text": [
      "=== Bayside ===\n",
      "Joe 76\n",
      "\n",
      "=== Hogwarts ===\n",
      "Yip 55\n",
      "\n",
      "=== Ridgemont ===\n",
      "Lam 100\n",
      "\n",
      "=== Rushmore ===\n",
      "Jonny 78\n",
      "Mary 39\n",
      "\n",
      "=== Rydell ===\n",
      "Jokob 56\n",
      "\n",
      "=== Shermer ===\n",
      "Jimmy 67\n",
      "Erik 89\n",
      "\n"
     ]
    }
   ],
   "source": [
    "for school, group in group_science_by_school:\n",
    "    print('===', school, '===')\n",
    "    for i  in group.index:\n",
    "        print(df.values[i][2], end=' ')\n",
    "        print(df.values[i][4])\n",
    "    print()"
   ]
  },
  {
   "cell_type": "code",
   "execution_count": 19,
   "metadata": {},
   "outputs": [
    {
     "name": "stdout",
     "output_type": "stream",
     "text": [
      "[ 1.  2.  3.  4.  5.  6.  7.  8.  9. 10.]\n",
      "[2.  4.5 1.  2.  3.5 3.  1.  2.  3.  2. ]\n"
     ]
    }
   ],
   "source": [
    "import numpy as np\n",
    "semester, grade = np.loadtxt(\"results.csv\", unpack=True, delimiter=\",\")\n",
    "print(semester)\n",
    "print(grade)"
   ]
  },
  {
   "cell_type": "code",
   "execution_count": 21,
   "metadata": {},
   "outputs": [
    {
     "data": {
      "image/png": "[encoded data removed]",
      "text/plain": [
       "<Figure size 432x288 with 1 Axes>"
      ]
     },
     "metadata": {},
     "output_type": "display_data"
    }
   ],
   "source": [
    "%matplotlib inline \n",
    "from matplotlib import pyplot as plt\n",
    "from matplotlib import style\n",
    "import numpy as np\n",
    "\n",
    "style.use('ggplot')\n",
    "semester, grade = np.loadtxt(\"results.csv\", unpack=True, delimiter=\",\")\n",
    "\n",
    "plt.bar(\n",
    "    semester,\n",
    "    grade, \n",
    "    label=\"Jim\", \n",
    "    color = \"m\", \n",
    "    align = \"center\"\n",
    ")\n",
    "\n",
    "plt.title(\"Results\")\n",
    "plt.xlabel(\"Semester\")\n",
    "plt.ylabel(\"Grade\")\n",
    "\n",
    "plt.legend()\n",
    "plt.grid(True, color=\"y\")"
   ]
  },
  {
   "cell_type": "code",
   "execution_count": 26,
   "metadata": {},
   "outputs": [
    {
     "data": {
      "text/plain": [
       "<function matplotlib.pyplot.show(*args, **kw)>"
      ]
     },
     "execution_count": 26,
     "metadata": {},
     "output_type": "execute_result"
    },
    {
     "data": {
      "image/png": "[encoded data removed]",
      "text/plain": [
       "<Figure size 432x288 with 1 Axes>"
      ]
     },
     "metadata": {
      "needs_background": "light"
     },
     "output_type": "display_data"
    }
   ],
   "source": [
    "%matplotlib inline \n",
    "import numpy as np\n",
    "from matplotlib import pyplot as plt\n",
    "\n",
    "year_2013 = [17, 9, 16, 3, 21, 7, 8, 4, 6, 21, 4, 1]\n",
    "year_2014 = [7, 3, 6, 8, 12, 5, 19, 22, 16, 13, 21, 3]\n",
    "year_2015 = [9, 2, 12, 3, 4, 15, 5, 13, 1, 4, 5, 9]\n",
    "\n",
    "rainy_days = np.array([year_2013, year_2014, year_2015])\n",
    "\n",
    "labels = ['Jan', 'Feb', 'Mar', 'Apr', 'May', 'Jun', \n",
    "          'Jul', 'Aug', 'Sep', 'Oct', 'Nov', 'Dec']\n",
    "\n",
    "plt.xticks(range(len(year_2013)), labels, rotation='vertical')\n",
    "\n",
    "for month in rainy_days:\n",
    "    plt.plot(month)\n",
    "\n",
    "plt.show"
   ]
  },
  {
   "cell_type": "code",
   "execution_count": 24,
   "metadata": {},
   "outputs": [
    {
     "name": "stdout",
     "output_type": "stream",
     "text": [
      "['bmh', 'classic', 'dark_background', 'fast', 'fivethirtyeight', 'ggplot', 'grayscale', 'seaborn-bright', 'seaborn-colorblind', 'seaborn-dark-palette', 'seaborn-dark', 'seaborn-darkgrid', 'seaborn-deep', 'seaborn-muted', 'seaborn-notebook', 'seaborn-paper', 'seaborn-pastel', 'seaborn-poster', 'seaborn-talk', 'seaborn-ticks', 'seaborn-white', 'seaborn-whitegrid', 'seaborn', 'Solarize_Light2', 'tableau-colorblind10', '_classic_test']\n"
     ]
    }
   ],
   "source": [
    "print(plt.style.available)"
   ]
  },
  {
   "cell_type": "code",
   "execution_count": null,
   "metadata": {},
   "outputs": [],
   "source": []
  }
 ],
 "metadata": {
  "kernelspec": {
   "display_name": "Python 3",
   "language": "python",
   "name": "python3"
  },
  "language_info": {
   "codemirror_mode": {
    "name": "ipython",
    "version": 3
   },
   "file_extension": ".py",
   "mimetype": "text/x-python",
   "name": "python",
   "nbconvert_exporter": "python",
   "pygments_lexer": "ipython3",
   "version": "3.7.4"
  }
 },
 "nbformat": 4,
 "nbformat_minor": 2
}
